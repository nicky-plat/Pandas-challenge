{
 "cells": [
  {
   "cell_type": "code",
   "execution_count": null,
   "id": "inner-acoustic",
   "metadata": {},
   "outputs": [],
   "source": [
    "import pd as pandas\n",
    "import numpy as np"
   ]
  },
  {
   "cell_type": "code",
   "execution_count": null,
   "id": "eleven-tissue",
   "metadata": {},
   "outputs": [],
   "source": [
    "# Save file path to variable\n",
    "schools_complete.csv = \"Resources/schools_complete.csv\"\n",
    "students_complete.csv = \"Resources/students_complete.csv\""
   ]
  }
 ],
 "metadata": {
  "kernelspec": {
   "display_name": "Python 3",
   "language": "python",
   "name": "python3"
  },
  "language_info": {
   "codemirror_mode": {
    "name": "ipython",
    "version": 3
   },
   "file_extension": ".py",
   "mimetype": "text/x-python",
   "name": "python",
   "nbconvert_exporter": "python",
   "pygments_lexer": "ipython3",
   "version": "3.8.8"
  }
 },
 "nbformat": 4,
 "nbformat_minor": 5
}
